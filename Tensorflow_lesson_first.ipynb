{
  "nbformat": 4,
  "nbformat_minor": 0,
  "metadata": {
    "colab": {
      "name": "Tensorflow_lessons.ipynb",
      "provenance": [],
      "collapsed_sections": [],
      "authorship_tag": "ABX9TyOcOk4eSH1Q9Z9O02L3Hxf3",
      "include_colab_link": true
    },
    "kernelspec": {
      "name": "python3",
      "display_name": "Python 3"
    },
    "language_info": {
      "name": "python"
    },
    "accelerator": "GPU"
  },
  "cells": [
    {
      "cell_type": "markdown",
      "metadata": {
        "id": "view-in-github",
        "colab_type": "text"
      },
      "source": [
        "<a href=\"https://colab.research.google.com/github/Kidchris/Lesson/blob/master/Tensorflow_lesson_first.ipynb\" target=\"_parent\"><img src=\"https://colab.research.google.com/assets/colab-badge.svg\" alt=\"Open In Colab\"/></a>"
      ]
    },
    {
      "cell_type": "markdown",
      "metadata": {
        "id": "FlOzr3PSYG8m"
      },
      "source": [
        "# Lessons of tensorflow with Lazy programmer in Udemy\n",
        "\n",
        "going through basics to advanced"
      ]
    },
    {
      "cell_type": "code",
      "metadata": {
        "id": "EKHtNRsQtQUf"
      },
      "source": [
        "import tensorflow as tf\n",
        "import pandas as pd\n",
        "import numpy as np\n"
      ],
      "execution_count": 1,
      "outputs": []
    },
    {
      "cell_type": "code",
      "metadata": {
        "id": "OXkhS3LktUgd"
      },
      "source": [
        "(X_train, y_train), (X_test, y_test) = tf.keras.datasets.mnist.load_data()"
      ],
      "execution_count": 2,
      "outputs": []
    },
    {
      "cell_type": "code",
      "metadata": {
        "id": "3Mr4ncQstrEp"
      },
      "source": [
        "X_train, X_test = X_train/255.0 , X_test/255.0"
      ],
      "execution_count": 3,
      "outputs": []
    },
    {
      "cell_type": "code",
      "metadata": {
        "colab": {
          "base_uri": "https://localhost:8080/"
        },
        "id": "NgO3f2WysGQ1",
        "outputId": "fb72810d-6560-46e3-bd1d-6b6a6297bb7d"
      },
      "source": [
        "X_train.shape"
      ],
      "execution_count": 4,
      "outputs": [
        {
          "output_type": "execute_result",
          "data": {
            "text/plain": [
              "(60000, 28, 28)"
            ]
          },
          "metadata": {
            "tags": []
          },
          "execution_count": 4
        }
      ]
    },
    {
      "cell_type": "code",
      "metadata": {
        "id": "iIB9nGKMggfe"
      },
      "source": [
        "model = tf.keras.models.Sequential()\n",
        "model.add(tf.keras.layers.Input(shape=(28,28)))\n",
        "model.add(tf.keras.layers.Flatten())\n",
        "model.add(tf.keras.layers.Dense(128, activation='relu'))\n",
        "model.add(tf.keras.layers.Dropout(0.2))\n",
        "model.add(tf.keras.layers.Dense(128, activation='relu'))\n",
        "model.add(tf.keras.layers.Dropout(0.2))\n",
        "model.add(tf.keras.layers.Dense(128, activation='softmax'))\n",
        "model.add(tf.keras.layers.Dropout(0.2))\n",
        "model.add(tf.keras.layers.Dense(10, activation='softmax'))\n"
      ],
      "execution_count": 16,
      "outputs": []
    },
    {
      "cell_type": "code",
      "metadata": {
        "id": "ILE8K7pzitK7"
      },
      "source": [
        "model.compile(loss='sparse_categorical_crossentropy', metrics=['accuracy'], optimizer='adam')"
      ],
      "execution_count": 17,
      "outputs": []
    },
    {
      "cell_type": "code",
      "metadata": {
        "colab": {
          "base_uri": "https://localhost:8080/"
        },
        "id": "RqQBoa2Ai_L3",
        "outputId": "2852dae1-70b7-4fa8-9239-e94ac3b05a3e"
      },
      "source": [
        "result = model.fit(X_train, y_train, validation_data=(X_test, y_test), epochs=70)"
      ],
      "execution_count": 18,
      "outputs": [
        {
          "output_type": "stream",
          "text": [
            "Epoch 1/70\n",
            "1875/1875 [==============================] - 5s 2ms/step - loss: 1.8053 - accuracy: 0.4486 - val_loss: 1.0778 - val_accuracy: 0.5857\n",
            "Epoch 2/70\n",
            "1875/1875 [==============================] - 4s 2ms/step - loss: 1.1765 - accuracy: 0.5111 - val_loss: 0.7502 - val_accuracy: 0.7057\n",
            "Epoch 3/70\n",
            "1875/1875 [==============================] - 4s 2ms/step - loss: 0.9746 - accuracy: 0.6035 - val_loss: 0.5215 - val_accuracy: 0.8523\n",
            "Epoch 4/70\n",
            "1875/1875 [==============================] - 4s 2ms/step - loss: 0.8072 - accuracy: 0.6935 - val_loss: 0.4069 - val_accuracy: 0.8830\n",
            "Epoch 5/70\n",
            "1875/1875 [==============================] - 4s 2ms/step - loss: 0.7362 - accuracy: 0.7294 - val_loss: 0.2802 - val_accuracy: 0.9644\n",
            "Epoch 6/70\n",
            "1875/1875 [==============================] - 4s 2ms/step - loss: 0.6149 - accuracy: 0.7883 - val_loss: 0.2126 - val_accuracy: 0.9692\n",
            "Epoch 7/70\n",
            "1875/1875 [==============================] - 4s 2ms/step - loss: 0.5586 - accuracy: 0.7978 - val_loss: 0.1936 - val_accuracy: 0.9687\n",
            "Epoch 8/70\n",
            "1875/1875 [==============================] - 4s 2ms/step - loss: 0.5201 - accuracy: 0.8192 - val_loss: 0.1732 - val_accuracy: 0.9700\n",
            "Epoch 9/70\n",
            "1875/1875 [==============================] - 4s 2ms/step - loss: 0.4724 - accuracy: 0.8441 - val_loss: 0.1411 - val_accuracy: 0.9744\n",
            "Epoch 10/70\n",
            "1875/1875 [==============================] - 4s 2ms/step - loss: 0.4062 - accuracy: 0.8779 - val_loss: 0.1247 - val_accuracy: 0.9743\n",
            "Epoch 11/70\n",
            "1875/1875 [==============================] - 4s 2ms/step - loss: 0.3764 - accuracy: 0.8794 - val_loss: 0.1121 - val_accuracy: 0.9756\n",
            "Epoch 12/70\n",
            "1875/1875 [==============================] - 4s 2ms/step - loss: 0.3587 - accuracy: 0.8872 - val_loss: 0.1163 - val_accuracy: 0.9761\n",
            "Epoch 13/70\n",
            "1875/1875 [==============================] - 4s 2ms/step - loss: 0.3294 - accuracy: 0.8995 - val_loss: 0.1081 - val_accuracy: 0.9773\n",
            "Epoch 14/70\n",
            "1875/1875 [==============================] - 4s 2ms/step - loss: 0.3057 - accuracy: 0.9061 - val_loss: 0.1097 - val_accuracy: 0.9761\n",
            "Epoch 15/70\n",
            "1875/1875 [==============================] - 4s 2ms/step - loss: 0.2792 - accuracy: 0.9215 - val_loss: 0.1046 - val_accuracy: 0.9778\n",
            "Epoch 16/70\n",
            "1875/1875 [==============================] - 4s 2ms/step - loss: 0.2625 - accuracy: 0.9256 - val_loss: 0.1126 - val_accuracy: 0.9745\n",
            "Epoch 17/70\n",
            "1875/1875 [==============================] - 4s 2ms/step - loss: 0.2435 - accuracy: 0.9318 - val_loss: 0.1050 - val_accuracy: 0.9768\n",
            "Epoch 18/70\n",
            "1875/1875 [==============================] - 4s 2ms/step - loss: 0.2466 - accuracy: 0.9307 - val_loss: 0.1056 - val_accuracy: 0.9760\n",
            "Epoch 19/70\n",
            "1875/1875 [==============================] - 4s 2ms/step - loss: 0.2338 - accuracy: 0.9331 - val_loss: 0.1024 - val_accuracy: 0.9773\n",
            "Epoch 20/70\n",
            "1875/1875 [==============================] - 4s 2ms/step - loss: 0.2296 - accuracy: 0.9350 - val_loss: 0.1070 - val_accuracy: 0.9762\n",
            "Epoch 21/70\n",
            "1875/1875 [==============================] - 4s 2ms/step - loss: 0.2204 - accuracy: 0.9365 - val_loss: 0.1002 - val_accuracy: 0.9783\n",
            "Epoch 22/70\n",
            "1875/1875 [==============================] - 4s 2ms/step - loss: 0.2157 - accuracy: 0.9387 - val_loss: 0.0983 - val_accuracy: 0.9772\n",
            "Epoch 23/70\n",
            "1875/1875 [==============================] - 4s 2ms/step - loss: 0.2126 - accuracy: 0.9388 - val_loss: 0.0999 - val_accuracy: 0.9787\n",
            "Epoch 24/70\n",
            "1875/1875 [==============================] - 4s 2ms/step - loss: 0.1896 - accuracy: 0.9491 - val_loss: 0.1026 - val_accuracy: 0.9772\n",
            "Epoch 25/70\n",
            "1875/1875 [==============================] - 4s 2ms/step - loss: 0.1937 - accuracy: 0.9487 - val_loss: 0.1029 - val_accuracy: 0.9771\n",
            "Epoch 26/70\n",
            "1875/1875 [==============================] - 4s 2ms/step - loss: 0.1783 - accuracy: 0.9547 - val_loss: 0.0960 - val_accuracy: 0.9775\n",
            "Epoch 27/70\n",
            "1875/1875 [==============================] - 4s 2ms/step - loss: 0.1650 - accuracy: 0.9583 - val_loss: 0.1035 - val_accuracy: 0.9767\n",
            "Epoch 28/70\n",
            "1875/1875 [==============================] - 4s 2ms/step - loss: 0.1668 - accuracy: 0.9565 - val_loss: 0.1127 - val_accuracy: 0.9755\n",
            "Epoch 29/70\n",
            "1875/1875 [==============================] - 4s 2ms/step - loss: 0.1664 - accuracy: 0.9575 - val_loss: 0.1026 - val_accuracy: 0.9769\n",
            "Epoch 30/70\n",
            "1875/1875 [==============================] - 4s 2ms/step - loss: 0.1567 - accuracy: 0.9601 - val_loss: 0.0953 - val_accuracy: 0.9783\n",
            "Epoch 31/70\n",
            "1875/1875 [==============================] - 4s 2ms/step - loss: 0.1581 - accuracy: 0.9592 - val_loss: 0.0943 - val_accuracy: 0.9775\n",
            "Epoch 32/70\n",
            "1875/1875 [==============================] - 4s 2ms/step - loss: 0.1542 - accuracy: 0.9589 - val_loss: 0.1035 - val_accuracy: 0.9774\n",
            "Epoch 33/70\n",
            "1875/1875 [==============================] - 4s 2ms/step - loss: 0.1495 - accuracy: 0.9606 - val_loss: 0.1020 - val_accuracy: 0.9778\n",
            "Epoch 34/70\n",
            "1875/1875 [==============================] - 4s 2ms/step - loss: 0.1392 - accuracy: 0.9628 - val_loss: 0.0946 - val_accuracy: 0.9786\n",
            "Epoch 35/70\n",
            "1875/1875 [==============================] - 4s 2ms/step - loss: 0.1363 - accuracy: 0.9628 - val_loss: 0.0975 - val_accuracy: 0.9790\n",
            "Epoch 36/70\n",
            "1875/1875 [==============================] - 4s 2ms/step - loss: 0.1344 - accuracy: 0.9653 - val_loss: 0.1073 - val_accuracy: 0.9767\n",
            "Epoch 37/70\n",
            "1875/1875 [==============================] - 4s 2ms/step - loss: 0.1255 - accuracy: 0.9679 - val_loss: 0.0997 - val_accuracy: 0.9777\n",
            "Epoch 38/70\n",
            "1875/1875 [==============================] - 4s 2ms/step - loss: 0.1288 - accuracy: 0.9682 - val_loss: 0.0963 - val_accuracy: 0.9803\n",
            "Epoch 39/70\n",
            "1875/1875 [==============================] - 4s 2ms/step - loss: 0.1169 - accuracy: 0.9710 - val_loss: 0.0959 - val_accuracy: 0.9790\n",
            "Epoch 40/70\n",
            "1875/1875 [==============================] - 4s 2ms/step - loss: 0.1177 - accuracy: 0.9706 - val_loss: 0.0949 - val_accuracy: 0.9800\n",
            "Epoch 41/70\n",
            "1875/1875 [==============================] - 4s 2ms/step - loss: 0.1113 - accuracy: 0.9720 - val_loss: 0.0942 - val_accuracy: 0.9773\n",
            "Epoch 42/70\n",
            "1875/1875 [==============================] - 4s 2ms/step - loss: 0.1096 - accuracy: 0.9731 - val_loss: 0.0962 - val_accuracy: 0.9777\n",
            "Epoch 43/70\n",
            "1875/1875 [==============================] - 4s 2ms/step - loss: 0.1024 - accuracy: 0.9756 - val_loss: 0.0918 - val_accuracy: 0.9796\n",
            "Epoch 44/70\n",
            "1875/1875 [==============================] - 4s 2ms/step - loss: 0.1042 - accuracy: 0.9754 - val_loss: 0.0961 - val_accuracy: 0.9777\n",
            "Epoch 45/70\n",
            "1875/1875 [==============================] - 4s 2ms/step - loss: 0.1010 - accuracy: 0.9777 - val_loss: 0.0943 - val_accuracy: 0.9798\n",
            "Epoch 46/70\n",
            "1875/1875 [==============================] - 4s 2ms/step - loss: 0.0950 - accuracy: 0.9782 - val_loss: 0.0957 - val_accuracy: 0.9785\n",
            "Epoch 47/70\n",
            "1875/1875 [==============================] - 4s 2ms/step - loss: 0.0938 - accuracy: 0.9795 - val_loss: 0.0909 - val_accuracy: 0.9793\n",
            "Epoch 48/70\n",
            "1875/1875 [==============================] - 4s 2ms/step - loss: 0.0892 - accuracy: 0.9786 - val_loss: 0.0992 - val_accuracy: 0.9781\n",
            "Epoch 49/70\n",
            "1875/1875 [==============================] - 4s 2ms/step - loss: 0.0840 - accuracy: 0.9806 - val_loss: 0.1016 - val_accuracy: 0.9784\n",
            "Epoch 50/70\n",
            "1875/1875 [==============================] - 4s 2ms/step - loss: 0.0807 - accuracy: 0.9801 - val_loss: 0.1053 - val_accuracy: 0.9769\n",
            "Epoch 51/70\n",
            "1875/1875 [==============================] - 4s 2ms/step - loss: 0.0740 - accuracy: 0.9827 - val_loss: 0.0972 - val_accuracy: 0.9792\n",
            "Epoch 52/70\n",
            "1875/1875 [==============================] - 4s 2ms/step - loss: 0.0805 - accuracy: 0.9805 - val_loss: 0.0955 - val_accuracy: 0.9800\n",
            "Epoch 53/70\n",
            "1875/1875 [==============================] - 4s 2ms/step - loss: 0.0748 - accuracy: 0.9817 - val_loss: 0.0933 - val_accuracy: 0.9796\n",
            "Epoch 54/70\n",
            "1875/1875 [==============================] - 4s 2ms/step - loss: 0.0664 - accuracy: 0.9838 - val_loss: 0.0941 - val_accuracy: 0.9798\n",
            "Epoch 55/70\n",
            "1875/1875 [==============================] - 4s 2ms/step - loss: 0.0666 - accuracy: 0.9836 - val_loss: 0.0958 - val_accuracy: 0.9776\n",
            "Epoch 56/70\n",
            "1875/1875 [==============================] - 4s 2ms/step - loss: 0.0693 - accuracy: 0.9826 - val_loss: 0.1020 - val_accuracy: 0.9786\n",
            "Epoch 57/70\n",
            "1875/1875 [==============================] - 4s 2ms/step - loss: 0.0657 - accuracy: 0.9836 - val_loss: 0.0919 - val_accuracy: 0.9792\n",
            "Epoch 58/70\n",
            "1875/1875 [==============================] - 4s 2ms/step - loss: 0.0608 - accuracy: 0.9854 - val_loss: 0.1049 - val_accuracy: 0.9799\n",
            "Epoch 59/70\n",
            "1875/1875 [==============================] - 4s 2ms/step - loss: 0.0652 - accuracy: 0.9841 - val_loss: 0.0947 - val_accuracy: 0.9796\n",
            "Epoch 60/70\n",
            "1875/1875 [==============================] - 4s 2ms/step - loss: 0.0623 - accuracy: 0.9849 - val_loss: 0.1017 - val_accuracy: 0.9795\n",
            "Epoch 61/70\n",
            "1875/1875 [==============================] - 4s 2ms/step - loss: 0.0608 - accuracy: 0.9846 - val_loss: 0.1004 - val_accuracy: 0.9784\n",
            "Epoch 62/70\n",
            "1875/1875 [==============================] - 4s 2ms/step - loss: 0.0588 - accuracy: 0.9862 - val_loss: 0.1065 - val_accuracy: 0.9781\n",
            "Epoch 63/70\n",
            "1875/1875 [==============================] - 4s 2ms/step - loss: 0.0650 - accuracy: 0.9833 - val_loss: 0.0975 - val_accuracy: 0.9789\n",
            "Epoch 64/70\n",
            "1875/1875 [==============================] - 4s 2ms/step - loss: 0.0616 - accuracy: 0.9855 - val_loss: 0.1009 - val_accuracy: 0.9778\n",
            "Epoch 65/70\n",
            "1875/1875 [==============================] - 4s 2ms/step - loss: 0.0623 - accuracy: 0.9845 - val_loss: 0.0993 - val_accuracy: 0.9789\n",
            "Epoch 66/70\n",
            "1875/1875 [==============================] - 4s 2ms/step - loss: 0.0597 - accuracy: 0.9848 - val_loss: 0.0951 - val_accuracy: 0.9798\n",
            "Epoch 67/70\n",
            "1875/1875 [==============================] - 4s 2ms/step - loss: 0.0613 - accuracy: 0.9859 - val_loss: 0.1010 - val_accuracy: 0.9798\n",
            "Epoch 68/70\n",
            "1875/1875 [==============================] - 4s 2ms/step - loss: 0.0536 - accuracy: 0.9874 - val_loss: 0.1057 - val_accuracy: 0.9794\n",
            "Epoch 69/70\n",
            "1875/1875 [==============================] - 4s 2ms/step - loss: 0.0583 - accuracy: 0.9863 - val_loss: 0.0970 - val_accuracy: 0.9795\n",
            "Epoch 70/70\n",
            "1875/1875 [==============================] - 4s 2ms/step - loss: 0.0547 - accuracy: 0.9871 - val_loss: 0.1009 - val_accuracy: 0.9788\n"
          ],
          "name": "stdout"
        }
      ]
    },
    {
      "cell_type": "code",
      "metadata": {
        "colab": {
          "base_uri": "https://localhost:8080/"
        },
        "id": "8l-H8Tm_jLo3",
        "outputId": "d79f19f7-4a02-4d0a-8c41-d8319215b1f3"
      },
      "source": [
        "print('train : ', model.evaluate(X_train, y_train))\n",
        "print('test : ', model.evaluate(X_test, y_test))"
      ],
      "execution_count": 19,
      "outputs": [
        {
          "output_type": "stream",
          "text": [
            "1875/1875 [==============================] - 3s 2ms/step - loss: 0.0109 - accuracy: 0.9973\n",
            "train :  [0.010915052145719528, 0.9972666501998901]\n",
            "313/313 [==============================] - 1s 2ms/step - loss: 0.1009 - accuracy: 0.9788\n",
            "test :  [0.1008804589509964, 0.9787999987602234]\n"
          ],
          "name": "stdout"
        }
      ]
    },
    {
      "cell_type": "code",
      "metadata": {
        "colab": {
          "base_uri": "https://localhost:8080/",
          "height": 284
        },
        "id": "frpsRgxeo966",
        "outputId": "2e6041f0-0352-4640-ffb0-41352fff8904"
      },
      "source": [
        "import matplotlib.pyplot as plt\n",
        "\n",
        "plt.plot(result.history[\"loss\"], label='training')\n",
        "plt.plot(result.history[\"val_loss\"], label='validation')\n",
        "plt.legend()"
      ],
      "execution_count": 20,
      "outputs": [
        {
          "output_type": "execute_result",
          "data": {
            "text/plain": [
              "<matplotlib.legend.Legend at 0x7f85d2320a50>"
            ]
          },
          "metadata": {
            "tags": []
          },
          "execution_count": 20
        },
        {
          "output_type": "display_data",
          "data": {
            "image/png": "[encoded data removed]",
            "text/plain": [
              "<Figure size 432x288 with 1 Axes>"
            ]
          },
          "metadata": {
            "tags": [],
            "needs_background": "light"
          }
        }
      ]
    },
    {
      "cell_type": "code",
      "metadata": {
        "colab": {
          "base_uri": "https://localhost:8080/",
          "height": 282
        },
        "id": "3ZozCh3WoIeu",
        "outputId": "2fb73423-2142-4002-f6fd-52360d77f390"
      },
      "source": [
        "import matplotlib.pyplot as plt\n",
        "\n",
        "plt.plot(result.history[\"accuracy\"], label='training')\n",
        "plt.plot(result.history[\"val_accuracy\"], label='validation')\n",
        "plt.legend()"
      ],
      "execution_count": 27,
      "outputs": [
        {
          "output_type": "execute_result",
          "data": {
            "text/plain": [
              "<matplotlib.legend.Legend at 0x7f85d18c4c90>"
            ]
          },
          "metadata": {
            "tags": []
          },
          "execution_count": 27
        },
        {
          "output_type": "display_data",
          "data": {
            "image/png": "[encoded data removed]",
            "text/plain": [
              "<Figure size 432x288 with 1 Axes>"
            ]
          },
          "metadata": {
            "tags": [],
            "needs_background": "light"
          }
        }
      ]
    },
    {
      "cell_type": "code",
      "metadata": {
        "id": "H9lmyoLNpKto"
      },
      "source": [
        "y_pred = model.predict(X_test).argmax(axis=1)"
      ],
      "execution_count": 28,
      "outputs": []
    },
    {
      "cell_type": "code",
      "metadata": {
        "colab": {
          "base_uri": "https://localhost:8080/",
          "height": 282
        },
        "id": "7zr8Z6CVqtQG",
        "outputId": "21abaecd-11b2-4b77-ef02-c152e67b2a6f"
      },
      "source": [
        "from sklearn.metrics import confusion_matrix\n",
        "import seaborn as sb\n",
        "sb.heatmap(confusion_matrix(y_test, y_pred),cmap='cool' ,annot=True, cbar=False)\n"
      ],
      "execution_count": 29,
      "outputs": [
        {
          "output_type": "execute_result",
          "data": {
            "text/plain": [
              "<matplotlib.axes._subplots.AxesSubplot at 0x7f85d183fa90>"
            ]
          },
          "metadata": {
            "tags": []
          },
          "execution_count": 29
        },
        {
          "output_type": "display_data",
          "data": {
            "image/png": "[encoded data removed]",
            "text/plain": [
              "<Figure size 432x288 with 1 Axes>"
            ]
          },
          "metadata": {
            "tags": [],
            "needs_background": "light"
          }
        }
      ]
    },
    {
      "cell_type": "code",
      "metadata": {
        "id": "Ab7PtGEPq1lc"
      },
      "source": [
        ""
      ],
      "execution_count": 29,
      "outputs": []
    },
    {
      "cell_type": "code",
      "metadata": {
        "colab": {
          "base_uri": "https://localhost:8080/",
          "height": 298
        },
        "id": "dYl7kJ25q56S",
        "outputId": "d5d4f2d1-80c3-4717-cd8f-ffc685439592"
      },
      "source": [
        "# Show some misclassified examples\n",
        "misclassified_idx = np.where(y_pred != y_test)[0]\n",
        "i = np.random.choice(misclassified_idx)\n",
        "plt.imshow(X_test[i], cmap='gray')\n",
        "plt.title(\"True label: %s Predicted: %s\" % (y_test[i], y_pred[i]))"
      ],
      "execution_count": 30,
      "outputs": [
        {
          "output_type": "execute_result",
          "data": {
            "text/plain": [
              "Text(0.5, 1.0, 'True label: 4 Predicted: 9')"
            ]
          },
          "metadata": {
            "tags": []
          },
          "execution_count": 30
        },
        {
          "output_type": "display_data",
          "data": {
            "image/png": "[encoded data removed]",
            "text/plain": [
              "<Figure size 432x288 with 1 Axes>"
            ]
          },
          "metadata": {
            "tags": [],
            "needs_background": "light"
          }
        }
      ]
    },
    {
      "cell_type": "code",
      "metadata": {
        "id": "jn5LXCGrrCE_"
      },
      "source": [
        "model.save(\"Mnist.h5\")"
      ],
      "execution_count": 31,
      "outputs": []
    },
    {
      "cell_type": "code",
      "metadata": {
        "colab": {
          "base_uri": "https://localhost:8080/"
        },
        "id": "b8pw9Uu82GU6",
        "outputId": "0142cac6-ae6a-4ca4-fd3d-561a31d680e1"
      },
      "source": [
        "print(model)"
      ],
      "execution_count": 26,
      "outputs": [
        {
          "output_type": "stream",
          "text": [
            "<tensorflow.python.keras.engine.sequential.Sequential object at 0x7f85d45447d0>\n"
          ],
          "name": "stdout"
        }
      ]
    },
    {
      "cell_type": "code",
      "metadata": {
        "id": "7LRpcVBg3XNe"
      },
      "source": [
        ""
      ],
      "execution_count": 26,
      "outputs": []
    }
  ]
}